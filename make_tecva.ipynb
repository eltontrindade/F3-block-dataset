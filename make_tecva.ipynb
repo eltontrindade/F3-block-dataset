{
 "cells": [
  {
   "cell_type": "code",
   "execution_count": 5,
   "metadata": {},
   "outputs": [
    {
     "name": "stdout",
     "output_type": "stream",
     "text": [
      "(401, 701, 255)\n",
      "(401, 701, 255)\n"
     ]
    }
   ],
   "source": [
    "#TECVA: Converts Seismic to TECVA atributte. It highlights structural features and strong reflectors\n",
    "import Atributtes\n",
    "from Atributtes import TECVA, Amp_rms\n",
    "import numpy as np\n",
    "\n",
    "sismica=np.load(r'D:\\Elton\\F3\\data\\train\\train_seismic.npy')\n",
    "print(sismica.shape)\n",
    "sismica=np.moveaxis(sismica,-1,0)\n",
    "\n",
    "\n",
    "tecva=[]\n",
    "for i in range(sismica.shape[2]):\n",
    "    tecva.append(TECVA(sismica[:,:,i],6))\n",
    "\n",
    "\n",
    "out = np.asarray(tecva)\n",
    "out=np.moveaxis(sismica,0,-1)\n",
    "print(out.shape)\n",
    "\n",
    "np.save(r'D:\\Elton\\F3\\data\\train\\tecva.npy', out)\n",
    "\n"
   ]
  },
  {
   "cell_type": "code",
   "execution_count": 3,
   "metadata": {},
   "outputs": [
    {
     "name": "stdout",
     "output_type": "stream",
     "text": [
      "(200, 701, 255)\n",
      "(601, 200, 255)\n"
     ]
    }
   ],
   "source": [
    "#TECVA\n",
    "import Atributtes\n",
    "from Atributtes import TECVA, Amp_rms\n",
    "import numpy as np\n",
    "\n",
    "for j in range(2):\n",
    "    sismica=np.load(r'D:\\Elton\\F3\\data\\test_once\\test' + format(j+1) +'_seismic.npy')\n",
    "    sismica=np.moveaxis(sismica,-1,0)\n",
    "    #sismica=sismica[:100,:200,:200]\n",
    "\n",
    "    tecva=[]\n",
    "    for i in range(sismica.shape[2]):\n",
    "        tecva.append(TECVA(sismica[:,:,i],6))\n",
    "\n",
    "\n",
    "    out = np.asarray(tecva)\n",
    "    \n",
    "    out=np.moveaxis(sismica,0,-1)\n",
    "    print(out.shape)\n",
    "    np.save(r'D:\\Elton\\F3\\data\\test_once\\test_' + format(j+1)+ 'tecva.npy', out)"
   ]
  },
  {
   "cell_type": "code",
   "execution_count": null,
   "metadata": {},
   "outputs": [],
   "source": [
    "import matplotlib.pyplot as plt\n",
    "\n",
    "fig = plt.figure(figsize=(28,20))\n",
    "IL=50\n",
    "ax = fig.add_subplot(131)\n",
    "sim = ax.imshow(out[:,IL,:], cmap='binary');\n",
    "fig.colorbar(sim, ax=ax)\n",
    "ax.set_xticks([])\n",
    "ax.set_yticks([])\n",
    "ax.invert_xaxis()\n",
    "\n",
    "\n",
    "\n",
    "ax1 = fig.add_subplot(132)\n",
    "amp = ax1.imshow(sismica[:,IL,:],cmap='gray');\n",
    "fig.colorbar(amp, ax=ax1)\n",
    "ax1.set_xticks([])\n",
    "ax1.set_yticks([])\n",
    "ax1.invert_xaxis()"
   ]
  },
  {
   "cell_type": "code",
   "execution_count": null,
   "metadata": {},
   "outputs": [],
   "source": [
    "import matplotlib.pyplot as plt\n",
    "\n",
    "fig = plt.figure(figsize=(28,20))\n",
    "IL=50\n",
    "ax = fig.add_subplot(131)\n",
    "sim = ax.imshow(out[IL,:,:], cmap='binary');\n",
    "fig.colorbar(sim, ax=ax)\n",
    "ax.set_xticks([])\n",
    "ax.set_yticks([])\n",
    "ax.invert_xaxis()\n",
    "\n",
    "\n",
    "\n",
    "ax1 = fig.add_subplot(132)\n",
    "amp = ax1.imshow(out[IL,:,:],cmap='gray');\n",
    "fig.colorbar(amp, ax=ax1)\n",
    "ax1.set_xticks([])\n",
    "ax1.set_yticks([])\n",
    "ax1.invert_xaxis()"
   ]
  },
  {
   "cell_type": "code",
   "execution_count": 2,
   "metadata": {},
   "outputs": [
    {
     "data": {
      "text/plain": [
       "(255, 601, 200)"
      ]
     },
     "execution_count": 2,
     "metadata": {},
     "output_type": "execute_result"
    }
   ],
   "source": [
    "a=sismica.shape\n",
    "a"
   ]
  },
  {
   "cell_type": "code",
   "execution_count": null,
   "metadata": {},
   "outputs": [],
   "source": [
    "b=np.moveaxis(sismica,-1,0)\n",
    "b.shape"
   ]
  },
  {
   "cell_type": "code",
   "execution_count": null,
   "metadata": {},
   "outputs": [],
   "source": []
  }
 ],
 "metadata": {
  "kernelspec": {
   "display_name": "Python 3",
   "language": "python",
   "name": "python3"
  },
  "language_info": {
   "codemirror_mode": {
    "name": "ipython",
    "version": 3
   },
   "file_extension": ".py",
   "mimetype": "text/x-python",
   "name": "python",
   "nbconvert_exporter": "python",
   "pygments_lexer": "ipython3",
   "version": "3.7.7"
  }
 },
 "nbformat": 4,
 "nbformat_minor": 2
}
