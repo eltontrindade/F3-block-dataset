{
 "cells": [
  {
   "cell_type": "code",
   "execution_count": null,
   "metadata": {},
   "outputs": [],
   "source": [
    "#2D evaluation\n",
    "import _init_paths\n",
    "\n",
    "import shutil\n",
    "import fire\n",
    "import time\n",
    "import pandas as pd\n",
    "import os\n",
    "import numpy as np\n",
    "import torch\n",
    "import torch.nn as nn\n",
    "import torch.backends.cudnn as cudnn\n",
    "import torchvision\n",
    "import torch.nn.functional as F\n",
    "from sklearn import metrics as met\n",
    "from tqdm import tqdm\n",
    "from collections import OrderedDict\n",
    "from torchvision import datasets, transforms, models\n",
    "from torch.utils.data import DataLoader\n",
    "from tensorboardX import SummaryWriter\n",
    "from sklearn.metrics import roc_auc_score\n",
    "from unet import UNet\n",
    "from poc_dataset_ACS import BaseDatasetShape\n",
    "from mylib.loss import soft_dice_loss\n",
    "from mylib.utils import MultiAverageMeter, save_model, log_results, to_var, set_seed, \\\n",
    "        to_device, initialize, categorical_to_one_hot, copy_file_backup, redirect_stdout\n",
    "from mylib.metrics import cal_batch_iou, cal_batch_dice, AUROC_per_case\n",
    "from mylib.loss import soft_dice_loss\n",
    "from poc_config import POCShapeConfig as cfg\n",
    "from poc_config import POCShapeEnv as env\n",
    "from livelossplot import PlotLosses\n",
    "\n",
    "\n",
    "from unet import UNet\n",
    "from acsconv.models import ACSUNet\n",
    "from acsconv.converters import ACSConverter, Conv3dConverter, Conv2_5dConverter\n",
    "\n",
    "from mylib.metrics import cal_batch_iou, cal_batch_dice, AUROC_per_case\n",
    "from mylib.loss import soft_dice_loss\n",
    "\n",
    "import timeit\n",
    "start_time = timeit.default_timer()\n",
    "    \n",
    "train_data = env.data_train\n",
    "test_data = env.data_train\n",
    "\n",
    "train_set = BaseDatasetShape(train_data, cfg.train_samples,1)\n",
    "valid_set = None\n",
    "test_set = BaseDatasetShape(test_data, cfg.train_samples,1)\n",
    "\n",
    "PATH=r'C:\\Users\\admin\\Desktop\\Elton\\F3\\ensemblemodels\\canal_1\\model.dat'\n",
    "\n",
    "model = UNet(6)\n",
    "\n",
    "#initialize(model.modules())\n",
    "model.load_state_dict(torch.load(PATH))\n",
    "model = to_device(model)\n",
    "true=[]\n",
    "truepred=[]\n",
    "test_loader = DataLoader(test_set, batch_size=1, shuffle=False,\n",
    "                                pin_memory=(torch.cuda.is_available()), num_workers=cfg.num_workers)\n",
    "with torch.no_grad():\n",
    "    for z,(x, y) in enumerate(test_loader):\n",
    "        x = to_var(x)\n",
    "        y = to_var(y)\n",
    "            \n",
    "        model.eval()\n",
    "        predit = model(x)\n",
    "        \n",
    "        predit, y = predit.detach().cpu().numpy(), y.detach().cpu().numpy() \n",
    "        predit=np.argmax(predit,1)\n",
    "        y=np.argmax(y,1)\n",
    "\n",
    "\n",
    "        \n",
    "        truepred.append(predit)\n",
    "        true.append(y)\n",
    "    \n",
    "import matplotlib.pyplot as plt\n",
    "import numpy as np\n",
    "import h5py\n",
    "import keras\n",
    "import k3d\n",
    "from sklearn.metrics import confusion_matrix, f1_score, precision_score, recall_score,jaccard_score,accuracy_score\n",
    "from ipywidgets import interact, widgets\n",
    "\n",
    "import src\n",
    "true= np.concatenate(true).ravel()\n",
    "truepred= np.concatenate(truepred).ravel()\n",
    "precision = precision_score(true, truepred, average='weighted')\n",
    "recall = recall_score(true, truepred, average='weighted')\n",
    "f1 = f1_score(true, truepred, average='weighted')\n",
    "jaccard=jaccard_score(true, truepred, average='weighted')\n",
    "acc=accuracy_score(true,truepred)\n",
    "\n",
    "\n",
    "classnames = {0:'upper_ns', \n",
    "              1:'middle_ns', \n",
    "              2:'lower_ns',\n",
    "              3:'rijnland_chalk', \n",
    "              4:'scruff', \n",
    "              5:'zechstein'}\n",
    "\n",
    "matrix = confusion_matrix(true, truepred)\n",
    "matrix = matrix.astype('float') / matrix.sum(axis=1)[:, np.newaxis]\n",
    "\n",
    "print(f'Acurácia: \\t{acc}')\n",
    "print(f'Precision: \\t{precision}')\n",
    "print(f'Recall: \\t{recall}')\n",
    "print(f'F1-Score: \\t{f1}')\n",
    "print(f'IOU: \\t{jaccard}')\n",
    "elapsed = timeit.default_timer() - start_time\n",
    "#print(f'elapsed:  \\t {elapsed}')\n",
    "\n",
    "src.plot_confusion_matrix(matrix, classnames.values(), title=\"Confusion matrix\")   \n"
   ]
  },
  {
   "cell_type": "code",
   "execution_count": null,
   "metadata": {},
   "outputs": [],
   "source": [
    "src.plot_confusion_matrix(matrix, classnames.values(), title=\"Confusion matrix\")"
   ]
  },
  {
   "cell_type": "code",
   "execution_count": null,
   "metadata": {},
   "outputs": [],
   "source": [
    "from torchvision import models\n",
    "from torchsummary import summary\n",
    "\n",
    "summary(model,(1,32,32))"
   ]
  },
  {
   "cell_type": "code",
   "execution_count": 3,
   "metadata": {
    "scrolled": false
   },
   "outputs": [
    {
     "name": "stdout",
     "output_type": "stream",
     "text": [
      "add code root path (with `mylib`, 'acsconv').\n"
     ]
    },
    {
     "name": "stderr",
     "output_type": "stream",
     "text": [
      "Using TensorFlow backend.\n"
     ]
    },
    {
     "name": "stdout",
     "output_type": "stream",
     "text": [
      "The ``converters`` are currently experimental. It may not support operations including (but not limited to) Functions in ``torch.nn.functional`` that involved data dimension\n",
      "D:\\Elton\\F3\\Conv3D_399samples\\model.dat\n"
     ]
    },
    {
     "name": "stderr",
     "output_type": "stream",
     "text": [
      "C:\\Users\\admin\\AppData\\Roaming\\Python\\Python37\\site-packages\\torch\\nn\\functional.py:2973: UserWarning: Default upsampling behavior when mode=trilinear is changed to align_corners=False since 0.4.0. Please specify align_corners=True if the old behavior is desired. See the documentation of nn.Upsample for details.\n",
      "  \"See the documentation of nn.Upsample for details.\".format(mode))\n"
     ]
    },
    {
     "ename": "KeyboardInterrupt",
     "evalue": "",
     "output_type": "error",
     "traceback": [
      "\u001b[1;31m---------------------------------------------------------------------------\u001b[0m",
      "\u001b[1;31mKeyboardInterrupt\u001b[0m                         Traceback (most recent call last)",
      "\u001b[1;32m<ipython-input-3-9faa7329ce84>\u001b[0m in \u001b[0;36m<module>\u001b[1;34m()\u001b[0m\n\u001b[0;32m     75\u001b[0m         \u001b[0mpredit\u001b[0m \u001b[1;33m=\u001b[0m \u001b[0mmodel\u001b[0m\u001b[1;33m(\u001b[0m\u001b[0mx\u001b[0m\u001b[1;33m)\u001b[0m\u001b[1;33m\u001b[0m\u001b[1;33m\u001b[0m\u001b[0m\n\u001b[0;32m     76\u001b[0m \u001b[1;33m\u001b[0m\u001b[0m\n\u001b[1;32m---> 77\u001b[1;33m         \u001b[0mpredit\u001b[0m\u001b[1;33m,\u001b[0m \u001b[0my\u001b[0m \u001b[1;33m=\u001b[0m \u001b[0mpredit\u001b[0m\u001b[1;33m.\u001b[0m\u001b[0mdetach\u001b[0m\u001b[1;33m(\u001b[0m\u001b[1;33m)\u001b[0m\u001b[1;33m.\u001b[0m\u001b[0mcpu\u001b[0m\u001b[1;33m(\u001b[0m\u001b[1;33m)\u001b[0m\u001b[1;33m.\u001b[0m\u001b[0mnumpy\u001b[0m\u001b[1;33m(\u001b[0m\u001b[1;33m)\u001b[0m\u001b[1;33m,\u001b[0m \u001b[0my\u001b[0m\u001b[1;33m.\u001b[0m\u001b[0mdetach\u001b[0m\u001b[1;33m(\u001b[0m\u001b[1;33m)\u001b[0m\u001b[1;33m.\u001b[0m\u001b[0mcpu\u001b[0m\u001b[1;33m(\u001b[0m\u001b[1;33m)\u001b[0m\u001b[1;33m.\u001b[0m\u001b[0mnumpy\u001b[0m\u001b[1;33m(\u001b[0m\u001b[1;33m)\u001b[0m\u001b[1;33m\u001b[0m\u001b[1;33m\u001b[0m\u001b[0m\n\u001b[0m\u001b[0;32m     78\u001b[0m         \u001b[0mpredit\u001b[0m\u001b[1;33m=\u001b[0m\u001b[0mnp\u001b[0m\u001b[1;33m.\u001b[0m\u001b[0margmax\u001b[0m\u001b[1;33m(\u001b[0m\u001b[0mpredit\u001b[0m\u001b[1;33m,\u001b[0m\u001b[1;36m1\u001b[0m\u001b[1;33m)\u001b[0m\u001b[1;33m\u001b[0m\u001b[1;33m\u001b[0m\u001b[0m\n\u001b[0;32m     79\u001b[0m         \u001b[0my\u001b[0m\u001b[1;33m=\u001b[0m\u001b[0mnp\u001b[0m\u001b[1;33m.\u001b[0m\u001b[0margmax\u001b[0m\u001b[1;33m(\u001b[0m\u001b[0my\u001b[0m\u001b[1;33m,\u001b[0m\u001b[1;36m1\u001b[0m\u001b[1;33m)\u001b[0m\u001b[1;33m\u001b[0m\u001b[1;33m\u001b[0m\u001b[0m\n",
      "\u001b[1;31mKeyboardInterrupt\u001b[0m: "
     ]
    }
   ],
   "source": [
    "#UNET 3D Evaluation\n",
    "\n",
    "\n",
    "import _init_paths\n",
    "\n",
    "import fire\n",
    "import time\n",
    "import pandas as pd\n",
    "import os\n",
    "import numpy as np\n",
    "import torch\n",
    "import torch.nn as nn\n",
    "import torch.backends.cudnn as cudnn\n",
    "import torchvision\n",
    "import torch.nn.functional as F\n",
    "import sklearn\n",
    "from sklearn.metrics import roc_auc_score\n",
    "from tqdm import tqdm\n",
    "from collections import OrderedDict\n",
    "from torchvision import datasets, transforms, models\n",
    "from torch.utils.data import DataLoader\n",
    "from tensorboardX import SummaryWriter\n",
    "\n",
    "from poc_dataset_ACS import BaseDatasetVoxel\n",
    "from mylib.loss import soft_cross_entropy_loss\n",
    "from mylib.utils import MultiAverageMeter, save_model, log_results, to_var, set_seed, \\\n",
    "        to_device, initialize, categorical_to_one_hot, copy_file_backup, redirect_stdout\n",
    "from poc_config_3D import POCVoxelConfig as cfg\n",
    "from poc_config_3D import POCVoxelEnv as env\n",
    "\n",
    "from unet import UNet\n",
    "from acsconv.models import ACSUNet\n",
    "from acsconv.converters import ACSConverter, Conv3dConverter, Conv2_5dConverter\n",
    "\n",
    "from mylib.metrics import cal_batch_iou, cal_batch_dice, AUROC_per_case\n",
    "from mylib.loss import soft_dice_loss\n",
    "\n",
    "import timeit\n",
    "start_time = timeit.default_timer()\n",
    "    \n",
    "train_data = env.data_train\n",
    "test_data = env.data_test\n",
    "eval_data=env.data_eval\n",
    "eval_data2=env.data_eval2\n",
    "\n",
    "train_set = BaseDatasetVoxel(train_data, cfg.train_samples)\n",
    "valid_set = None\n",
    "test_set = BaseDatasetVoxel(test_data, cfg.test_samples)\n",
    "eval_set= BaseDatasetVoxel(eval_data,cfg.eval_samples)\n",
    "eval_set2= BaseDatasetVoxel(eval_data2,cfg.eval_samples2)\n",
    "\n",
    "#PATH=r'C:\\Users\\admin\\Desktop\\cnn-facies-classifier-master\\tmp\\voxel\\Conv3D_22samples\\model.dat'\n",
    "PATH=os.path.join(cfg.save, r'model.dat')\n",
    "model = UNet(6) #3 é o numero de classes\n",
    "print(PATH)\n",
    "model = Conv3dConverter(model)\n",
    "#initialize(model.modules())\n",
    "model.load_state_dict(torch.load(PATH))\n",
    "model = to_device(model)\n",
    "true=[]\n",
    "truepred=[]\n",
    "test_loader = DataLoader(eval_set2, batch_size=1, shuffle=False,\n",
    "                                pin_memory=(torch.cuda.is_available()), num_workers=cfg.num_workers)\n",
    "\n",
    "from torchvision import models\n",
    "from torchsummary import summary\n",
    "\n",
    "#summary(model,(1,32,32,32))\n",
    "\n",
    "with torch.no_grad():\n",
    "    for z,(x, y) in enumerate(test_loader):\n",
    "        x = to_var(x)\n",
    "        y = to_var(y)\n",
    "            \n",
    "        model.eval()\n",
    "        predit = model(x)\n",
    "        \n",
    "        predit, y = predit.detach().cpu().numpy(), y.detach().cpu().numpy() \n",
    "        predit=np.argmax(predit,1)\n",
    "        y=np.argmax(y,1)\n",
    "\n",
    "\n",
    "        \n",
    "        truepred.append(predit)\n",
    "        true.append(y)\n",
    "    \n",
    "import matplotlib.pyplot as plt\n",
    "import numpy as np\n",
    "import h5py\n",
    "import keras\n",
    "import k3d\n",
    "from sklearn.metrics import confusion_matrix, f1_score, precision_score, recall_score,jaccard_score, accuracy_score\n",
    "from ipywidgets import interact, widgets\n",
    "\n",
    "import src\n",
    "true= np.concatenate(true).ravel()\n",
    "truepred= np.concatenate(truepred).ravel()\n",
    "precision = precision_score(true, truepred, average='weighted' )\n",
    "recall = recall_score(true, truepred, average='weighted'  )\n",
    "f1 = f1_score(true, truepred, average='weighted'  )\n",
    "jaccard=jaccard_score(true, truepred, average='weighted' )\n",
    "acc=accuracy_score(true,truepred )\n",
    "\n",
    "\n",
    "classnames = {0:'upper_ns', \n",
    "              1:'middle_ns', \n",
    "              2:'lower_ns',\n",
    "              3:'rijnland_chalk', \n",
    "              4:'scruff', \n",
    "              5:'zechstein'}\n",
    "\n",
    "\n",
    "matrix = confusion_matrix(true, truepred)\n",
    "matrix = matrix.astype('float') / matrix.sum(axis=1)[:, np.newaxis]\n",
    "print(f'Acurácia: \\t{acc}')\n",
    "print(f'Precision: \\t{precision}')\n",
    "print(f'Recall: \\t{recall}')\n",
    "print(f'F1-Score: \\t{f1}')\n",
    "print(f'IOU: \\t{jaccard}')\n",
    "elapsed = timeit.default_timer() - start_time\n",
    "print(f'elapsed:  \\t {elapsed}')\n",
    "src.plot_confusion_matrix(matrix, classnames.values(), title=\"Confusion matrix\")  \n"
   ]
  },
  {
   "cell_type": "code",
   "execution_count": null,
   "metadata": {},
   "outputs": [],
   "source": [
    "classnames = {0:'upper_ns', \n",
    "              1:'middle_ns', \n",
    "              2:'lower_ns',\n",
    "              3:'rijnland_chalk', \n",
    "              4:'scruff', \n",
    "              5:'zechstein'}\n",
    "\n",
    "print(f'Acurácia: \\t{acc}')\n",
    "print(f'Precision: \\t{precision}')\n",
    "print(f'Recall: \\t{recall}')\n",
    "print(f'F1-Score: \\t{f1}')\n",
    "print(f'IOU: \\t{jaccard}')\n",
    "elapsed = timeit.default_timer() - start_time\n",
    "print(f'elapsed:  \\t {elapsed}')\n",
    "src.plot_confusion_matrix(matrix, classnames.values(), title=\"Confusion matrix\")  "
   ]
  },
  {
   "cell_type": "code",
   "execution_count": 11,
   "metadata": {},
   "outputs": [],
   "source": [
    "truepredensemble1=truepred\n",
    "true1=true"
   ]
  },
  {
   "cell_type": "code",
   "execution_count": 14,
   "metadata": {},
   "outputs": [],
   "source": [
    "truepredensemble2=truepred\n",
    "true2=true"
   ]
  },
  {
   "cell_type": "code",
   "execution_count": 15,
   "metadata": {},
   "outputs": [],
   "source": [
    "final=np.append(truepredensemble1,truepredensemble2)\n",
    "finaltrue=np.append(true1,true2)"
   ]
  },
  {
   "cell_type": "code",
   "execution_count": 16,
   "metadata": {},
   "outputs": [
    {
     "name": "stdout",
     "output_type": "stream",
     "text": [
      "Acurácia: \t0.7854340716106135\n",
      "Precision: \t0.820618833439029\n",
      "Recall: \t0.7854340716106135\n",
      "F1-Score: \t0.7982575877579824\n",
      "IOU: \t0.6916838170327799\n"
     ]
    },
    {
     "data": {
      "text/plain": [
       "<matplotlib.axes._subplots.AxesSubplot at 0x2557ded6088>"
      ]
     },
     "execution_count": 16,
     "metadata": {},
     "output_type": "execute_result"
    },
    {
     "data": {
      "image/png": "[encoded data removed]",
      "text/plain": [
       "<Figure size 432x288 with 2 Axes>"
      ]
     },
     "metadata": {
      "needs_background": "light"
     },
     "output_type": "display_data"
    }
   ],
   "source": [
    "true= finaltrue\n",
    "truepred= final\n",
    "precision = precision_score(true, truepred, average='weighted')\n",
    "recall = recall_score(true, truepred, average='weighted')\n",
    "f1 = f1_score(true, truepred, average='weighted')\n",
    "jaccard=jaccard_score(true, truepred, average='weighted')\n",
    "acc=accuracy_score(true,truepred)\n",
    "\n",
    "\n",
    "classnames = {0:'upper_ns', \n",
    "              1:'middle_ns', \n",
    "              2:'lower_ns',\n",
    "              3:'rijnland_chalk', \n",
    "              4:'scruff', \n",
    "              5:'zechstein'}\n",
    "print(f'Acurácia: \\t{acc}')\n",
    "\n",
    "matrix = confusion_matrix(true, truepred)\n",
    "matrix = matrix.astype('float') / matrix.sum(axis=1)[:, np.newaxis]\n",
    "\n",
    "print(f'Precision: \\t{precision}')\n",
    "print(f'Recall: \\t{recall}')\n",
    "print(f'F1-Score: \\t{f1}')\n",
    "print(f'IOU: \\t{jaccard}')\n",
    "elapsed = timeit.default_timer() - start_time\n",
    "#print(f'elapsed:  \\t {elapsed}')\n",
    "\n",
    "src.plot_confusion_matrix(matrix, classnames.values(), title=\"Confusion matrix\") "
   ]
  },
  {
   "cell_type": "code",
   "execution_count": null,
   "metadata": {},
   "outputs": [],
   "source": []
  },
  {
   "cell_type": "code",
   "execution_count": 4,
   "metadata": {},
   "outputs": [
    {
     "name": "stderr",
     "output_type": "stream",
     "text": [
      "C:\\Users\\admin\\AppData\\Roaming\\Python\\Python37\\site-packages\\torch\\nn\\functional.py:2973: UserWarning: Default upsampling behavior when mode=trilinear is changed to align_corners=False since 0.4.0. Please specify align_corners=True if the old behavior is desired. See the documentation of nn.Upsample for details.\n",
      "  \"See the documentation of nn.Upsample for details.\".format(mode))\n"
     ]
    },
    {
     "name": "stdout",
     "output_type": "stream",
     "text": [
      "(608, 224, 256)\n",
      "(32, 32, 32)\n",
      "(608, 224, 256)\n",
      "(32, 32, 32)\n",
      "Acurácia: \t0.7564515350233272\n",
      "Precision: \t0.86426582274664\n",
      "Recall: \t0.7564515350233272\n",
      "F1-Score: \t0.7997502307363621\n",
      "IOU: \t0.6883506436250009\n"
     ]
    },
    {
     "data": {
      "text/plain": [
       "<matplotlib.axes._subplots.AxesSubplot at 0x25580e67348>"
      ]
     },
     "execution_count": 4,
     "metadata": {},
     "output_type": "execute_result"
    },
    {
     "data": {
      "image/png": "[encoded data removed]",
      "text/plain": [
       "<Figure size 432x288 with 2 Axes>"
      ]
     },
     "metadata": {
      "needs_background": "light"
     },
     "output_type": "display_data"
    }
   ],
   "source": [
    "#2,5D my ensemble evaluation\n",
    "\n",
    "import _init_paths\n",
    "\n",
    "import fire\n",
    "import time\n",
    "import pandas as pd\n",
    "import os\n",
    "import numpy as np\n",
    "import torch\n",
    "import torch.nn as nn\n",
    "import torch.backends.cudnn as cudnn\n",
    "import torchvision\n",
    "import torch.nn.functional as F\n",
    "import sklearn\n",
    "from sklearn.metrics import roc_auc_score\n",
    "from tqdm import tqdm\n",
    "from collections import OrderedDict\n",
    "from torchvision import datasets, transforms, models\n",
    "from torch.utils.data import DataLoader\n",
    "from tensorboardX import SummaryWriter\n",
    "\n",
    "from poc_dataset_ACS import BaseDatasetVoxel\n",
    "from mylib.loss import soft_cross_entropy_loss\n",
    "from mylib.utils import MultiAverageMeter, save_model, log_results, to_var, set_seed, \\\n",
    "        to_device, initialize, categorical_to_one_hot, copy_file_backup, redirect_stdout\n",
    "from poc_config_2dpre import POCVoxelConfig as cfg\n",
    "from poc_config_2dpre import POCVoxelEnv as env\n",
    "\n",
    "from unet import UNet\n",
    "from acsconv.models import ACSUNet\n",
    "from acsconv.converters import ACSConverter, Conv3dConverter, Conv2_5dConverter\n",
    "\n",
    "from mylib.metrics import cal_batch_iou, cal_batch_dice, AUROC_per_case\n",
    "from mylib.loss import soft_dice_loss\n",
    "from poc_config_2dpre import mergemodels as merge\n",
    "from unet_ensemble import MyEnsemble\n",
    "import timeit\n",
    "start_time = timeit.default_timer()\n",
    "    \n",
    "train_data = env.data_train\n",
    "test_data = env.data_test\n",
    "eval_data=env.data_eval\n",
    "eval_data2=env.data_eval2\n",
    "\n",
    "\n",
    "train_set = BaseDatasetVoxel(train_data, cfg.train_samples)\n",
    "valid_set = None\n",
    "test_set = BaseDatasetVoxel(test_data, cfg.test_samples)\n",
    "eval_set= BaseDatasetVoxel(eval_data, cfg.eval_samples)\n",
    "eval_set2= BaseDatasetVoxel(eval_data2,cfg.eval_samples2)\n",
    "\n",
    "\n",
    "PATH=r'C:\\Users\\admin\\Desktop\\Elton\\F3\\ensemblemodels\\Conv2_5D\\canal_4\\model.dat'\n",
    "\n",
    "model = MyEnsemble()\n",
    "model.load_state_dict(torch.load(PATH))\n",
    "model = to_device(model)\n",
    "true=[]\n",
    "truepred=[]\n",
    "test_loader = DataLoader(eval_set2, batch_size=1, shuffle=False,\n",
    "                                pin_memory=(torch.cuda.is_available()), num_workers=cfg.num_workers)\n",
    "from torchvision import models\n",
    "from torchsummary import summary\n",
    "\n",
    "#summary(model,(1,32,32,32))\n",
    "with torch.no_grad():\n",
    "    for z,(x, y) in enumerate(test_loader):\n",
    "        x = to_var(x)\n",
    "        y = to_var(y)\n",
    "            \n",
    "        model.eval()\n",
    "        predit = model(x)\n",
    "        \n",
    "        predit, y = predit.detach().cpu().numpy(), y.detach().cpu().numpy() \n",
    "        predit=np.argmax(predit,1)\n",
    "        y=np.argmax(y,1)\n",
    "\n",
    "\n",
    "        \n",
    "        truepred.append(predit)\n",
    "        true.append(y)\n",
    "\n",
    "import matplotlib.pyplot as plt\n",
    "import numpy as np\n",
    "import h5py\n",
    "import keras\n",
    "import k3d\n",
    "from sklearn.metrics import confusion_matrix, f1_score, precision_score, recall_score,jaccard_score,accuracy_score\n",
    "from ipywidgets import interact, widgets\n",
    "\n",
    "import src\n",
    "image_size=32\n",
    "def stuff_patches_3D(out_shape,patches,xstep=image_size,ystep=image_size,zstep=image_size):\n",
    "    out = np.zeros(out_shape, patches.dtype)\n",
    "    patch_shape = patches.shape[-3:]\n",
    "    print(out.shape)\n",
    "    print(patch_shape)\n",
    "    patches_6D = np.lib.stride_tricks.as_strided(out, ((out.shape[0]  ) // xstep, (out.shape[1]  ) // ystep,\n",
    "                                                  (out.shape[2]  ) // zstep, patch_shape[0], patch_shape[1], patch_shape[2]),\n",
    "                                                  (out.strides[0] * xstep, out.strides[1] * ystep,out.strides[2] * zstep, out.strides[0], out.strides[1],out.strides[2]))\n",
    "    patches_6D[...] = patches.reshape(patches_6D.shape)\n",
    "    return out\n",
    "\n",
    "#test2=(np.load(r'D:\\Elton\\F3\\data\\test_once\\test2_labels.npy')).shape\n",
    "test1=(np.load(r'D:\\Elton\\F3\\data\\test_once\\test2_labels.npy')).shape\n",
    "\n",
    "pad= tuple((image_size - x%image_size) for x in test1)\n",
    "test2=np.add(test1,pad)\n",
    "\n",
    "true= np.concatenate(true).ravel()\n",
    "truepred= np.concatenate(truepred).ravel()\n",
    "\n",
    "patches=true.reshape(-1,image_size,image_size,image_size)\n",
    "patchesensemble=truepred.reshape(-1,image_size,image_size,image_size)\n",
    "\n",
    "true=stuff_patches_3D((test2),patches)\n",
    "\n",
    "truepred=stuff_patches_3D((test2),patchesensemble)\n",
    "\n",
    "true=true[:-pad[0],:-pad[1],:-pad[2]]\n",
    "truepred=truepred[:-pad[0],:-pad[1],:-pad[2]]\n",
    "\n",
    "patches=true\n",
    "patchesensemble=truepred\n",
    "\n",
    "true= np.concatenate(true).ravel()\n",
    "truepred= np.concatenate(truepred).ravel()\n",
    "\n",
    "\n",
    "\n",
    "\n",
    "precision = precision_score(true, truepred, average='weighted')\n",
    "recall = recall_score(true, truepred, average='weighted')\n",
    "f1 = f1_score(true, truepred, average='weighted')\n",
    "jaccard=jaccard_score(true, truepred, average='weighted')\n",
    "acc=accuracy_score(true,truepred)\n",
    "\n",
    "\n",
    "classnames = {0:'upper_ns', \n",
    "              1:'middle_ns', \n",
    "              2:'lower_ns',\n",
    "              3:'rijnland_chalk', \n",
    "              4:'scruff', \n",
    "              5:'zechstein'}\n",
    "print(f'Acurácia: \\t{acc}')\n",
    "\n",
    "matrix = confusion_matrix(true, truepred)\n",
    "matrix = matrix.astype('float') / matrix.sum(axis=1)[:, np.newaxis]\n",
    "\n",
    "print(f'Precision: \\t{precision}')\n",
    "print(f'Recall: \\t{recall}')\n",
    "print(f'F1-Score: \\t{f1}')\n",
    "print(f'IOU: \\t{jaccard}')\n",
    "elapsed = timeit.default_timer() - start_time\n",
    "#print(f'elapsed:  \\t {elapsed}')\n",
    "\n",
    "src.plot_confusion_matrix(matrix, classnames.values(), title=\"Confusion matrix\")     \n",
    "\n",
    "    \n",
    "\n"
   ]
  },
  {
   "cell_type": "code",
   "execution_count": 5,
   "metadata": {},
   "outputs": [
    {
     "name": "stdout",
     "output_type": "stream",
     "text": [
      "Acurácia: \t0.7564515350233272\n",
      "Precision: \t0.86426582274664\n",
      "Recall: \t0.7564515350233272\n",
      "F1-Score: \t0.7997502307363621\n",
      "IOU: \t0.6883506436250009\n",
      "elapsed:  \t 84.87329359999998\n"
     ]
    },
    {
     "data": {
      "text/plain": [
       "<matplotlib.axes._subplots.AxesSubplot at 0x254959ef588>"
      ]
     },
     "execution_count": 5,
     "metadata": {},
     "output_type": "execute_result"
    },
    {
     "data": {
      "image/png": "[encoded data removed]",
      "text/plain": [
       "<Figure size 432x288 with 2 Axes>"
      ]
     },
     "metadata": {
      "needs_background": "light"
     },
     "output_type": "display_data"
    }
   ],
   "source": [
    "print(f'Acurácia: \\t{acc}')\n",
    "print(f'Precision: \\t{precision}')\n",
    "print(f'Recall: \\t{recall}')\n",
    "print(f'F1-Score: \\t{f1}')\n",
    "print(f'IOU: \\t{jaccard}')\n",
    "elapsed = timeit.default_timer() - start_time\n",
    "print(f'elapsed:  \\t {elapsed}')\n",
    "\n",
    "src.plot_confusion_matrix(matrix, classnames.values(), title=\"Confusion matrix\")  "
   ]
  },
  {
   "cell_type": "markdown",
   "metadata": {},
   "source": []
  },
  {
   "cell_type": "code",
   "execution_count": 3,
   "metadata": {},
   "outputs": [],
   "source": [
    "\n",
    "\n",
    "truepredensemble1=truepred\n",
    "true1=true"
   ]
  },
  {
   "cell_type": "code",
   "execution_count": 6,
   "metadata": {},
   "outputs": [],
   "source": [
    "truepredensemble2=truepred\n",
    "true2=true"
   ]
  },
  {
   "cell_type": "code",
   "execution_count": 7,
   "metadata": {},
   "outputs": [],
   "source": [
    "final=np.append(truepredensemble1,truepredensemble2)\n",
    "finaltrue=np.append(true1,true2)"
   ]
  },
  {
   "cell_type": "code",
   "execution_count": 8,
   "metadata": {},
   "outputs": [
    {
     "name": "stdout",
     "output_type": "stream",
     "text": [
      "Acurácia: \t0.8073400349387067\n",
      "Precision: \t0.8455512364810691\n",
      "Recall: \t0.8073400349387067\n",
      "F1-Score: \t0.822304686441338\n",
      "IOU: \t0.7227988989900713\n"
     ]
    },
    {
     "data": {
      "text/plain": [
       "<matplotlib.axes._subplots.AxesSubplot at 0x255bf877288>"
      ]
     },
     "execution_count": 8,
     "metadata": {},
     "output_type": "execute_result"
    },
    {
     "data": {
      "image/png": "[encoded data removed]",
      "text/plain": [
       "<Figure size 432x288 with 2 Axes>"
      ]
     },
     "metadata": {
      "needs_background": "light"
     },
     "output_type": "display_data"
    }
   ],
   "source": [
    "true= finaltrue\n",
    "truepred= final\n",
    "precision = precision_score(true, truepred, average='weighted')\n",
    "recall = recall_score(true, truepred, average='weighted')\n",
    "f1 = f1_score(true, truepred, average='weighted')\n",
    "jaccard=jaccard_score(true, truepred, average='weighted')\n",
    "acc=accuracy_score(true,truepred)\n",
    "\n",
    "\n",
    "classnames = {0:'upper_ns', \n",
    "              1:'middle_ns', \n",
    "              2:'lower_ns',\n",
    "              3:'rijnland_chalk', \n",
    "              4:'scruff', \n",
    "              5:'zechstein'}\n",
    "print(f'Acurácia: \\t{acc}')\n",
    "\n",
    "matrix = confusion_matrix(true, truepred)\n",
    "matrix = matrix.astype('float') / matrix.sum(axis=1)[:, np.newaxis]\n",
    "\n",
    "print(f'Precision: \\t{precision}')\n",
    "print(f'Recall: \\t{recall}')\n",
    "print(f'F1-Score: \\t{f1}')\n",
    "print(f'IOU: \\t{jaccard}')\n",
    "elapsed = timeit.default_timer() - start_time\n",
    "#print(f'elapsed:  \\t {elapsed}')\n",
    "\n",
    "src.plot_confusion_matrix(matrix, classnames.values(), title=\"Confusion matrix\") "
   ]
  },
  {
   "cell_type": "code",
   "execution_count": null,
   "metadata": {},
   "outputs": [],
   "source": [
    "seismic_cube = np.load(r'D:\\Elton\\F3\\data\\test_once\\test2_labels.npy')\n",
    "\n",
    "\n",
    "image_size=32\n",
    "pad= tuple((image_size - x%image_size) for x in seismic_cube.shape)\n",
    "label=np.pad(seismic_cube, ((0,pad[0]),(0,pad[1]),(0,pad[2])), 'edge')\n",
    "dim= tuple((x//32) for x in label.shape)\n",
    "dim"
   ]
  },
  {
   "cell_type": "code",
   "execution_count": null,
   "metadata": {},
   "outputs": [],
   "source": []
  },
  {
   "cell_type": "code",
   "execution_count": null,
   "metadata": {},
   "outputs": [],
   "source": [
    "\n",
    "            "
   ]
  },
  {
   "cell_type": "code",
   "execution_count": null,
   "metadata": {},
   "outputs": [],
   "source": []
  },
  {
   "cell_type": "code",
   "execution_count": null,
   "metadata": {},
   "outputs": [],
   "source": []
  },
  {
   "cell_type": "code",
   "execution_count": null,
   "metadata": {},
   "outputs": [],
   "source": [
    "truepred.shape\n",
    "patchespredunet=truepred.reshape(-1,32,32,32)\n",
    "patches=true2.reshape(-1,32,32,32)"
   ]
  },
  {
   "cell_type": "code",
   "execution_count": null,
   "metadata": {},
   "outputs": [],
   "source": []
  },
  {
   "cell_type": "code",
   "execution_count": null,
   "metadata": {},
   "outputs": [],
   "source": [
    "pad"
   ]
  },
  {
   "cell_type": "code",
   "execution_count": null,
   "metadata": {},
   "outputs": [],
   "source": [
    "224/32"
   ]
  },
  {
   "cell_type": "code",
   "execution_count": null,
   "metadata": {},
   "outputs": [],
   "source": []
  },
  {
   "cell_type": "code",
   "execution_count": null,
   "metadata": {},
   "outputs": [],
   "source": []
  },
  {
   "cell_type": "code",
   "execution_count": null,
   "metadata": {},
   "outputs": [],
   "source": [
    "seismic_cube = np.load(r'D:\\Elton\\F3\\data\\test_once\\test1_seismic.npy')\n",
    "seismic_cube.shape"
   ]
  },
  {
   "cell_type": "code",
   "execution_count": null,
   "metadata": {},
   "outputs": [],
   "source": [
    "fig = plt.figure(figsize=(18,16))\n",
    "IL=85\n",
    "ax = fig.add_subplot(131)\n",
    "sim = ax.imshow(patches[IL,:,:]);\n",
    "fig.colorbar(sim, ax=ax)\n",
    "ax.set_xticks([])\n",
    "ax.set_yticks([])\n",
    "ax.invert_xaxis()\n",
    "\n",
    "#ax1 = fig.add_subplot(132)\n",
    "#amp = ax1.imshow(finalpredunet[:,IL,:]);\n",
    "#fig.colorbar(amp, ax=ax1)\n",
    "#ax1.set_xticks([])\n",
    "#ax1.set_yticks([])\n",
    "#ax1.invert_xaxis()\n",
    "\n",
    "\n",
    "ax2 = fig.add_subplot(132)\n",
    "amp2 = ax2.imshow(patchesensemble[IL,:,:]);\n",
    "fig.colorbar(amp2, ax=ax2)\n",
    "ax2.set_xticks([])\n",
    "ax2.set_yticks([])\n",
    "ax2.invert_xaxis()"
   ]
  },
  {
   "cell_type": "code",
   "execution_count": null,
   "metadata": {},
   "outputs": [],
   "source": [
    "patches.shape"
   ]
  },
  {
   "cell_type": "code",
   "execution_count": null,
   "metadata": {},
   "outputs": [],
   "source": [
    "b=true.reshape(-1,32,32,32)\n",
    "b.shape"
   ]
  },
  {
   "cell_type": "code",
   "execution_count": null,
   "metadata": {},
   "outputs": [],
   "source": [
    "import numpy as np\n",
    "import matplotlib.pyplot as plt\n",
    "x=np.load(r'D:\\Elton\\F3\\data\\train_voxel\\voxel_203.npz')\n",
    "y=x['segs']\n",
    "x=x['voxel']\n",
    "x.shape,y.shape"
   ]
  },
  {
   "cell_type": "code",
   "execution_count": null,
   "metadata": {},
   "outputs": [],
   "source": [
    "fig = plt.figure(figsize=(10,12))\n",
    "IL=25\n",
    "ax = fig.add_subplot(131)\n",
    "sim = ax.imshow(x[0,IL,:,:]);\n",
    "fig.colorbar(sim, ax=ax)\n",
    "ax.set_xticks([])\n",
    "ax.set_yticks([])\n",
    "ax.invert_xaxis()\n",
    "\n",
    "#ax1 = fig.add_subplot(132)\n",
    "#amp = ax1.imshow(finalpredunet[:,IL,:]);\n",
    "#fig.colorbar(amp, ax=ax1)\n",
    "#ax1.set_xticks([])\n",
    "#ax1.set_yticks([])\n",
    "#ax1.invert_xaxis()\n",
    "\n",
    "\n",
    "ax2 = fig.add_subplot(132)\n",
    "amp2 = ax2.imshow(y[IL,:,:]);\n",
    "fig.colorbar(amp2, ax=ax2)\n",
    "ax2.set_xticks([])\n",
    "ax2.set_yticks([])\n",
    "ax2.invert_xaxis()"
   ]
  },
  {
   "cell_type": "code",
   "execution_count": 4,
   "metadata": {},
   "outputs": [
    {
     "name": "stdout",
     "output_type": "stream",
     "text": [
      "D:\\Elton\\F3\\Conv3D_399samples\\model.dat\n"
     ]
    },
    {
     "name": "stderr",
     "output_type": "stream",
     "text": [
      "C:\\Users\\admin\\AppData\\Roaming\\Python\\Python37\\site-packages\\torch\\nn\\functional.py:2973: UserWarning: Default upsampling behavior when mode=trilinear is changed to align_corners=False since 0.4.0. Please specify align_corners=True if the old behavior is desired. See the documentation of nn.Upsample for details.\n",
      "  \"See the documentation of nn.Upsample for details.\".format(mode))\n"
     ]
    },
    {
     "name": "stdout",
     "output_type": "stream",
     "text": [
      "----------------------------------------------------------------\n",
      "        Layer (type)               Output Shape         Param #\n",
      "================================================================\n",
      "            Conv3d-1      [-1, 128, 32, 32, 32]          44,032\n",
      "       BatchNorm3d-2      [-1, 128, 32, 32, 32]             256\n",
      "              ReLU-3      [-1, 128, 32, 32, 32]               0\n",
      "            Conv3d-4      [-1, 128, 32, 32, 32]       2,809,984\n",
      "       BatchNorm3d-5      [-1, 128, 32, 32, 32]             256\n",
      "              ReLU-6      [-1, 128, 32, 32, 32]               0\n",
      "         MaxPool3d-7      [-1, 128, 16, 16, 16]               0\n",
      "     _EncoderBlock-8      [-1, 128, 16, 16, 16]               0\n",
      "            Conv3d-9      [-1, 256, 16, 16, 16]       5,619,968\n",
      "      BatchNorm3d-10      [-1, 256, 16, 16, 16]             512\n",
      "             ReLU-11      [-1, 256, 16, 16, 16]               0\n",
      "           Conv3d-12      [-1, 256, 16, 16, 16]      11,239,680\n",
      "      BatchNorm3d-13      [-1, 256, 16, 16, 16]             512\n",
      "             ReLU-14      [-1, 256, 16, 16, 16]               0\n",
      "        MaxPool3d-15         [-1, 256, 8, 8, 8]               0\n",
      "    _EncoderBlock-16         [-1, 256, 8, 8, 8]               0\n",
      "         Upsample-17      [-1, 256, 16, 16, 16]               0\n",
      "           Conv3d-18      [-1, 128, 16, 16, 16]       8,429,696\n",
      "      BatchNorm3d-19      [-1, 128, 16, 16, 16]             256\n",
      "             ReLU-20      [-1, 128, 16, 16, 16]               0\n",
      "           Conv3d-21       [-1, 64, 16, 16, 16]       1,404,992\n",
      "      BatchNorm3d-22       [-1, 64, 16, 16, 16]             128\n",
      "             ReLU-23       [-1, 64, 16, 16, 16]               0\n",
      "    _DecoderBlock-24       [-1, 64, 16, 16, 16]               0\n",
      "         Upsample-25       [-1, 64, 32, 32, 32]               0\n",
      "           Conv3d-26        [-1, 6, 32, 32, 32]             198\n",
      "================================================================\n",
      "Total params: 29,550,470\n",
      "Trainable params: 29,550,470\n",
      "Non-trainable params: 0\n",
      "----------------------------------------------------------------\n",
      "Input size (MB): 0.25\n",
      "Forward/backward pass size (MB): 295.50\n",
      "Params size (MB): 112.73\n",
      "Estimated Total Size (MB): 408.48\n",
      "----------------------------------------------------------------\n"
     ]
    }
   ],
   "source": [
    "import torch\n",
    "import torch.nn as nn\n",
    "import torch.nn.functional as F\n",
    "import os\n",
    "from torchsummary import summary\n",
    "\n",
    "\n",
    "PATH=os.path.join(cfg.save, r'model.dat')\n",
    "model = UNet(6) #3 é o numero de classes\n",
    "print(PATH)\n",
    "model = Conv3dConverter(model)\n",
    "#initialize(model.modules())\n",
    "model.load_state_dict(torch.load(PATH))\n",
    "model = to_device(model)\n",
    "summary(model, input_size=(2, 32, 32,32))"
   ]
  },
  {
   "cell_type": "code",
   "execution_count": 5,
   "metadata": {},
   "outputs": [
    {
     "name": "stderr",
     "output_type": "stream",
     "text": [
      "C:\\Users\\admin\\AppData\\Roaming\\Python\\Python37\\site-packages\\torch\\nn\\functional.py:2973: UserWarning: Default upsampling behavior when mode=trilinear is changed to align_corners=False since 0.4.0. Please specify align_corners=True if the old behavior is desired. See the documentation of nn.Upsample for details.\n",
      "  \"See the documentation of nn.Upsample for details.\".format(mode))\n"
     ]
    },
    {
     "name": "stdout",
     "output_type": "stream",
     "text": [
      "----------------------------------------------------------------\n",
      "        Layer (type)               Output Shape         Param #\n",
      "================================================================\n",
      "            Conv3d-1      [-1, 128, 32, 32, 32]           6,400\n",
      "       BatchNorm3d-2      [-1, 128, 32, 32, 32]             256\n",
      "              ReLU-3      [-1, 128, 32, 32, 32]               0\n",
      "            Conv3d-4      [-1, 128, 32, 32, 32]         401,536\n",
      "       BatchNorm3d-5      [-1, 128, 32, 32, 32]             256\n",
      "              ReLU-6      [-1, 128, 32, 32, 32]               0\n",
      "         MaxPool3d-7      [-1, 128, 16, 16, 16]               0\n",
      "     _EncoderBlock-8      [-1, 128, 16, 16, 16]               0\n",
      "            Conv3d-9      [-1, 256, 16, 16, 16]         803,072\n",
      "      BatchNorm3d-10      [-1, 256, 16, 16, 16]             512\n",
      "             ReLU-11      [-1, 256, 16, 16, 16]               0\n",
      "           Conv3d-12      [-1, 256, 16, 16, 16]       1,605,888\n",
      "      BatchNorm3d-13      [-1, 256, 16, 16, 16]             512\n",
      "             ReLU-14      [-1, 256, 16, 16, 16]               0\n",
      "        MaxPool3d-15         [-1, 256, 8, 8, 8]               0\n",
      "    _EncoderBlock-16         [-1, 256, 8, 8, 8]               0\n",
      "         Upsample-17      [-1, 256, 16, 16, 16]               0\n",
      "           Conv3d-18      [-1, 128, 16, 16, 16]       1,204,352\n",
      "      BatchNorm3d-19      [-1, 128, 16, 16, 16]             256\n",
      "             ReLU-20      [-1, 128, 16, 16, 16]               0\n",
      "           Conv3d-21       [-1, 64, 16, 16, 16]         200,768\n",
      "      BatchNorm3d-22       [-1, 64, 16, 16, 16]             128\n",
      "             ReLU-23       [-1, 64, 16, 16, 16]               0\n",
      "    _DecoderBlock-24       [-1, 64, 16, 16, 16]               0\n",
      "         Upsample-25       [-1, 64, 32, 32, 32]               0\n",
      "           Conv3d-26        [-1, 6, 32, 32, 32]             198\n",
      "             UNet-27        [-1, 6, 32, 32, 32]               0\n",
      "           Conv3d-28      [-1, 128, 32, 32, 32]           6,400\n",
      "      BatchNorm3d-29      [-1, 128, 32, 32, 32]             256\n",
      "             ReLU-30      [-1, 128, 32, 32, 32]               0\n",
      "           Conv3d-31      [-1, 128, 32, 32, 32]         401,536\n",
      "      BatchNorm3d-32      [-1, 128, 32, 32, 32]             256\n",
      "             ReLU-33      [-1, 128, 32, 32, 32]               0\n",
      "        MaxPool3d-34      [-1, 128, 16, 16, 16]               0\n",
      "    _EncoderBlock-35      [-1, 128, 16, 16, 16]               0\n",
      "           Conv3d-36      [-1, 256, 16, 16, 16]         803,072\n",
      "      BatchNorm3d-37      [-1, 256, 16, 16, 16]             512\n",
      "             ReLU-38      [-1, 256, 16, 16, 16]               0\n",
      "           Conv3d-39      [-1, 256, 16, 16, 16]       1,605,888\n",
      "      BatchNorm3d-40      [-1, 256, 16, 16, 16]             512\n",
      "             ReLU-41      [-1, 256, 16, 16, 16]               0\n",
      "        MaxPool3d-42         [-1, 256, 8, 8, 8]               0\n",
      "    _EncoderBlock-43         [-1, 256, 8, 8, 8]               0\n",
      "         Upsample-44      [-1, 256, 16, 16, 16]               0\n",
      "           Conv3d-45      [-1, 128, 16, 16, 16]       1,204,352\n",
      "      BatchNorm3d-46      [-1, 128, 16, 16, 16]             256\n",
      "             ReLU-47      [-1, 128, 16, 16, 16]               0\n",
      "           Conv3d-48       [-1, 64, 16, 16, 16]         200,768\n",
      "      BatchNorm3d-49       [-1, 64, 16, 16, 16]             128\n",
      "             ReLU-50       [-1, 64, 16, 16, 16]               0\n",
      "    _DecoderBlock-51       [-1, 64, 16, 16, 16]               0\n",
      "         Upsample-52       [-1, 64, 32, 32, 32]               0\n",
      "           Conv3d-53        [-1, 6, 32, 32, 32]             198\n",
      "             UNet-54        [-1, 6, 32, 32, 32]               0\n",
      "================================================================\n",
      "Total params: 8,448,268\n",
      "Trainable params: 8,448,268\n",
      "Non-trainable params: 0\n",
      "----------------------------------------------------------------\n",
      "Input size (MB): 0.25\n",
      "Forward/backward pass size (MB): 594.00\n",
      "Params size (MB): 32.23\n",
      "Estimated Total Size (MB): 626.48\n",
      "----------------------------------------------------------------\n"
     ]
    }
   ],
   "source": [
    "import torch\n",
    "import torch.nn as nn\n",
    "import torch.nn.functional as F\n",
    "from unet_ensemble import MyEnsemble\n",
    "from torchsummary import summary\n",
    "PATH=r'C:\\Users\\admin\\Desktop\\Elton\\F3\\ensemblemodels\\Conv2_5D\\canal_4\\model.dat'\n",
    "\n",
    "model = MyEnsemble()\n",
    "model.load_state_dict(torch.load(PATH))\n",
    "model = to_device(model)\n",
    "summary(model, input_size=(2, 32, 32,32))"
   ]
  },
  {
   "cell_type": "code",
   "execution_count": null,
   "metadata": {},
   "outputs": [],
   "source": []
  }
 ],
 "metadata": {
  "kernelspec": {
   "display_name": "Python 3",
   "language": "python",
   "name": "python3"
  },
  "language_info": {
   "codemirror_mode": {
    "name": "ipython",
    "version": 3
   },
   "file_extension": ".py",
   "mimetype": "text/x-python",
   "name": "python",
   "nbconvert_exporter": "python",
   "pygments_lexer": "ipython3",
   "version": "3.7.7"
  }
 },
 "nbformat": 4,
 "nbformat_minor": 4
}
